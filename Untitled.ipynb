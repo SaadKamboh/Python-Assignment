{
 "cells": [
  {
   "cell_type": "code",
   "execution_count": 13,
   "metadata": {},
   "outputs": [
    {
     "data": {
      "text/plain": [
       "'Ali'"
      ]
     },
     "execution_count": 13,
     "metadata": {},
     "output_type": "execute_result"
    }
   ],
   "source": [
    "#example1\n",
    "employee1 = ['Ali', 125000, 'Google', 5]\n",
    "employee1 [0] "
   ]
  },
  {
   "cell_type": "code",
   "execution_count": 14,
   "metadata": {},
   "outputs": [
    {
     "data": {
      "text/plain": [
       "125000"
      ]
     },
     "execution_count": 14,
     "metadata": {},
     "output_type": "execute_result"
    }
   ],
   "source": [
    "employee1 [1]"
   ]
  },
  {
   "cell_type": "code",
   "execution_count": 15,
   "metadata": {},
   "outputs": [
    {
     "data": {
      "text/plain": [
       "'Google'"
      ]
     },
     "execution_count": 15,
     "metadata": {},
     "output_type": "execute_result"
    }
   ],
   "source": [
    "employee1 [2]"
   ]
  },
  {
   "cell_type": "code",
   "execution_count": 16,
   "metadata": {},
   "outputs": [
    {
     "data": {
      "text/plain": [
       "5"
      ]
     },
     "execution_count": 16,
     "metadata": {},
     "output_type": "execute_result"
    }
   ],
   "source": [
    "employee1 [3]"
   ]
  },
  {
   "cell_type": "code",
   "execution_count": 21,
   "metadata": {},
   "outputs": [
    {
     "name": "stdout",
     "output_type": "stream",
     "text": [
      "Ali is working in Google For 5 years and his salary is 125000\n"
     ]
    }
   ],
   "source": [
    "m = employee1[0] + ' is working in ' + employee1[2] + ' For ' + str(employee1[3]) + ' years and his salary is ' \n",
    "    + str(employee1[1])\n",
    "print(m)"
   ]
  },
  {
   "cell_type": "code",
   "execution_count": 43,
   "metadata": {},
   "outputs": [
    {
     "name": "stdout",
     "output_type": "stream",
     "text": [
      "Hello Ahmed Bilal,\n",
      "Your application is accepted for admission in \"BS Computer Science\" in Government College University.\n",
      "You have to submit fee 50000 before 28 Januray 2020.\n",
      "Your Classes will start from 05 February 2020.\n",
      "Thanks\n"
     ]
    }
   ],
   "source": [
    "#example2\n",
    "student = ['Ahmed', 'Bilal', 'Government College University', 'Computer Science', 'BS', 50000,\n",
    "           '28 Januray 2020', '05 February 2020']\n",
    "\n",
    "a = 'Hello ' + student[0] + ' ' + student[1] + ',' + '\\n'+ 'Your application is accepted for admission in ' + '\"' + student[4] + ' ' + student[3] + '\"' + ' in ' + student[2] + '.' + '\\n' + 'You have to submit fee ' + str(student[5]) + ' before ' + str(student[6]) + '.' +'\\n' + 'Your Classes will start from ' + str(student[7]) + '.' + '\\n' + 'Thanks'      \n",
    "\n",
    "\n",
    "print (a)"
   ]
  },
  {
   "cell_type": "code",
   "execution_count": 56,
   "metadata": {},
   "outputs": [
    {
     "data": {
      "text/plain": [
       "['Faisalabad', 'Lahore', 'Islamabad', 'Peshawar']"
      ]
     },
     "execution_count": 56,
     "metadata": {},
     "output_type": "execute_result"
    }
   ],
   "source": [
    "#positive slicing\n",
    "\n",
    "cities = [\"Faisalabad\", \"Lahore\", \"Islamabad\", \"Peshawar\", \"Quetta\", \"Sahiwal\", \"Rawalpindi\", \"Sialkot\"]\n",
    "cities  [0 : 4]"
   ]
  },
  {
   "cell_type": "code",
   "execution_count": 57,
   "metadata": {},
   "outputs": [
    {
     "data": {
      "text/plain": [
       "['Islamabad', 'Peshawar', 'Quetta', 'Sahiwal']"
      ]
     },
     "execution_count": 57,
     "metadata": {},
     "output_type": "execute_result"
    }
   ],
   "source": [
    "cities [2:6]"
   ]
  },
  {
   "cell_type": "code",
   "execution_count": 59,
   "metadata": {},
   "outputs": [
    {
     "data": {
      "text/plain": [
       "['Sahiwal', 'Rawalpindi', 'Sialkot']"
      ]
     },
     "execution_count": 59,
     "metadata": {},
     "output_type": "execute_result"
    }
   ],
   "source": [
    "cities [5 :]"
   ]
  },
  {
   "cell_type": "code",
   "execution_count": 62,
   "metadata": {},
   "outputs": [
    {
     "data": {
      "text/plain": [
       "['Quetta', 'Sahiwal', 'Rawalpindi']"
      ]
     },
     "execution_count": 62,
     "metadata": {},
     "output_type": "execute_result"
    }
   ],
   "source": [
    "#negative slicing\n",
    "cities = [\"Faisalabad\", \"Lahore\", \"Islamabad\", \"Peshawar\", \"Quetta\", \"Sahiwal\", \"Rawalpindi\", \"Sialkot\"]\n",
    "cities [-4 : -1]"
   ]
  },
  {
   "cell_type": "code",
   "execution_count": 64,
   "metadata": {},
   "outputs": [
    {
     "data": {
      "text/plain": [
       "['Peshawar', 'Quetta', 'Sahiwal', 'Rawalpindi', 'Sialkot']"
      ]
     },
     "execution_count": 64,
     "metadata": {},
     "output_type": "execute_result"
    }
   ],
   "source": [
    "cities [-5 : ]"
   ]
  },
  {
   "cell_type": "code",
   "execution_count": 92,
   "metadata": {},
   "outputs": [
    {
     "name": "stdout",
     "output_type": "stream",
     "text": [
      "['Zohaib Ali', 22, 91.24, 'Computer Science', 7, 'University of Agriculture']\n"
     ]
    }
   ],
   "source": [
    "#update lists\n",
    "student = [\"Ali Raza\", 22, 91.24, \"Computer Science\", 5, \"University of Agriculture\"]\n",
    "student [0] = \"Zohaib Ali\" \n",
    "student [4] = 7\n",
    "print(student)"
   ]
  },
  {
   "cell_type": "code",
   "execution_count": 82,
   "metadata": {
    "scrolled": true
   },
   "outputs": [
    {
     "name": "stdout",
     "output_type": "stream",
     "text": [
      "['Ali Raza', 22, 91.24, 'Computer Science', 5, 'University of Agriculture', '20 February 2019']\n"
     ]
    }
   ],
   "source": [
    "#using append\n",
    "student = [\"Ali Raza\", 22, 91.24, \"Computer Science\", 5, \"University of Agriculture\"]\n",
    "student.append('20 February 2019')\n",
    "print (student)"
   ]
  },
  {
   "cell_type": "code",
   "execution_count": 84,
   "metadata": {},
   "outputs": [
    {
     "name": "stdout",
     "output_type": "stream",
     "text": [
      "['Ali Raza', 22, 91.24, 'Computer Science', '25000', 5, 'University of Agriculture']\n"
     ]
    }
   ],
   "source": [
    "#using insert\n",
    "student = [\"Ali Raza\", 22, 91.24, \"Computer Science\", 5, \"University of Agriculture\"]\n",
    "student.insert(4,'25000')\n",
    "print(student)"
   ]
  },
  {
   "cell_type": "code",
   "execution_count": 90,
   "metadata": {},
   "outputs": [
    {
     "name": "stdout",
     "output_type": "stream",
     "text": [
      "['Ali Raza', 'M. Iqbal', 22, 91.24, 'Computer Science', 5, 'University of Agriculture']\n"
     ]
    }
   ],
   "source": [
    "student = [\"Ali Raza\", 22, 91.24, \"Computer Science\", 5, \"University of Agriculture\"]\n",
    "student.insert(1,'M. Iqbal')\n",
    "print(student)"
   ]
  },
  {
   "cell_type": "code",
   "execution_count": 95,
   "metadata": {},
   "outputs": [
    {
     "name": "stdout",
     "output_type": "stream",
     "text": [
      "['Ali Raza', 22, 5, 'University of Agriculture']\n"
     ]
    }
   ],
   "source": [
    "# using remove\n",
    "student = [\"Ali Raza\", 22, 91.24, \"Computer Science\", 5, \"University of Agriculture\"]\n",
    "student.remove('Computer Science')\n",
    "student.remove(91.24)\n",
    "print(student)"
   ]
  },
  {
   "cell_type": "code",
   "execution_count": 96,
   "metadata": {},
   "outputs": [
    {
     "name": "stdout",
     "output_type": "stream",
     "text": [
      "['Ali Raza', 22, 91.24, 5]\n"
     ]
    }
   ],
   "source": [
    "#using pop\n",
    "student = [\"Ali Raza\", 22, 91.24, \"Computer Science\", 5, \"University of Agriculture\"]\n",
    "student.pop(5)\n",
    "student.pop(3)\n",
    "print(student)"
   ]
  },
  {
   "cell_type": "code",
   "execution_count": 463,
   "metadata": {},
   "outputs": [
    {
     "name": "stdout",
     "output_type": "stream",
     "text": [
      "213000\n"
     ]
    }
   ],
   "source": [
    "#multidimensional list tasks\n",
    "employees= [[\"Ali\", 35000, \"Software Engineer\"],\n",
    "\t\t\t\t[\"Talha\", 55000, \"Product Manager\"],\n",
    "\t\t\t\t[\"Nasir\", 79000, \"Computer Engineer\"],\n",
    "\t\t\t\t[\"Khalid\", 44000, \"DBA\"]]\n",
    "#Forloop\n",
    "total_salary = 0\n",
    "for item in employees:\n",
    "    total_salary +=item [1]\n",
    "print(total_salary)"
   ]
  },
  {
   "cell_type": "code",
   "execution_count": 522,
   "metadata": {},
   "outputs": [
    {
     "name": "stdout",
     "output_type": "stream",
     "text": [
      "Talha 55000\n",
      "Nasir 79000\n"
     ]
    }
   ],
   "source": [
    "employees = [[\"Ali\", 35000, \"Software Engineer\"],\n",
    "\t\t\t\t[\"Talha\", 55000, \"Product Manager\"],\n",
    "\t\t\t\t[\"Nasir\", 79000, \"Computer Engineer\"],\n",
    "\t\t\t\t[\"Khalid\", 44000, \"DBA\"]]\n",
    "\n",
    "\n",
    "\n",
    "names = 0\n",
    "for i in employees : \n",
    "    salary = i[1]\n",
    "    if salary >= 50000:\n",
    "        salary = i[0]\n",
    "        names = i[1]\n",
    "        print (salary,names)"
   ]
  },
  {
   "cell_type": "code",
   "execution_count": 492,
   "metadata": {},
   "outputs": [
    {
     "name": "stdout",
     "output_type": "stream",
     "text": [
      "[['Ali', 35000, 'Software Engineer'], ['Talha', 55000, 'Product Manager'], ['Nasir', 90000, 'designation'], ['Khalid', 44000, 'DBA']]\n"
     ]
    }
   ],
   "source": [
    "#Change Salary\n",
    "employees= [[\"Ali\", 35000, \"Software Engineer\"],\n",
    "\t\t\t\t[\"Talha\", 55000, \"Product Manager\"],\n",
    "\t\t\t\t[\"Nasir\", 79000, \"Computer Engineer\"],\n",
    "                [\"Khalid\", 44000, \"DBA\"]]\n",
    "employees [2] [1] = 90000\n",
    "employees [2] [2] = \"designation\"\n",
    "print(employees)"
   ]
  },
  {
   "cell_type": "code",
   "execution_count": 341,
   "metadata": {},
   "outputs": [
    {
     "name": "stdout",
     "output_type": "stream",
     "text": [
      "[['Ali', 35000, 'Software Engineer'], ['Talha', 55000, 'Product Manager'], ['Nasir', 90000, 'designation'], ['Khalid', 50000, 'DBA']]\n"
     ]
    }
   ],
   "source": [
    "#change salary of Khalid to 50000\n",
    "employees [3] [1] = 50000\n",
    "print(employees)"
   ]
  },
  {
   "cell_type": "code",
   "execution_count": 371,
   "metadata": {},
   "outputs": [
    {
     "name": "stdout",
     "output_type": "stream",
     "text": [
      "login successfull\n",
      "Redirecting\n",
      "login Succeed\n"
     ]
    }
   ],
   "source": [
    "#Login User\n",
    "# Data 1\n",
    "username = \"faizan1214\"\n",
    "password = \"qwerty\"\n",
    "emailVerified = \"Falsee\"\n",
    "# Data 2\n",
    "username = \"faizan1214\"\n",
    "password = \"qwerty\"\n",
    "emailVerified = True\n",
    "\n",
    "\n",
    "if username == \"faizan1214\":\n",
    "    if password == \"qwerty\":\n",
    "        if emailVerified == \"Falsee\":\n",
    "            print(\"login successfull\")\n",
    "            print(\"Redirecting\")\n",
    "            print(\"login Succeed\")\n",
    "        else: \n",
    "            print(\"email is verified\")\n",
    "    else: \n",
    "        print (\"Invalid username\")\n",
    "else:\n",
    "     print(\"wrong password\")\n",
    "    "
   ]
  },
  {
   "cell_type": "code",
   "execution_count": 386,
   "metadata": {},
   "outputs": [
    {
     "name": "stdout",
     "output_type": "stream",
     "text": [
      "Incorrect login details\n"
     ]
    }
   ],
   "source": [
    "# Data 1\n",
    "username = \"faizan1214\"\n",
    "password = \"qwerty\"\n",
    "emailVerified = False\n",
    "\n",
    "# Data 2\n",
    "username = \"faizan1214\"\n",
    "password = \"qwerty\"\n",
    "emailVerified = \"Truee\"\n",
    "\n",
    "if username == \"faizan121\" :\n",
    "    if password == \"qwert\" :\n",
    "        if emailVerified == \"Truee\":\n",
    "            print(\"login successfull\")\n",
    "            print(\"Redirecting\")\n",
    "            print(\"login Succeed\")\n",
    "        else: \n",
    "            print(\"email is not verified\")\n",
    "else: \n",
    "    print (\"Incorrect login details\")\n",
    "    "
   ]
  },
  {
   "cell_type": "code",
   "execution_count": null,
   "metadata": {},
   "outputs": [],
   "source": []
  }
 ],
 "metadata": {
  "kernelspec": {
   "display_name": "Python 3",
   "language": "python",
   "name": "python3"
  },
  "language_info": {
   "codemirror_mode": {
    "name": "ipython",
    "version": 3
   },
   "file_extension": ".py",
   "mimetype": "text/x-python",
   "name": "python",
   "nbconvert_exporter": "python",
   "pygments_lexer": "ipython3",
   "version": "3.7.4"
  }
 },
 "nbformat": 4,
 "nbformat_minor": 2
}
